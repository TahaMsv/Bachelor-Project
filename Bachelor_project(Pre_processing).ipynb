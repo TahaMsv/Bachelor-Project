{
  "cells": [
    {
      "cell_type": "markdown",
      "metadata": {
        "id": "view-in-github",
        "colab_type": "text"
      },
      "source": [
        "<a href=\"https://colab.research.google.com/github/TahaMsv/Bachelor-Project/blob/main/Bachelor_project(Pre_processing).ipynb\" target=\"_parent\"><img src=\"https://colab.research.google.com/assets/colab-badge.svg\" alt=\"Open In Colab\"/></a>"
      ]
    },
    {
      "cell_type": "code",
      "execution_count": null,
      "metadata": {
        "colab": {
          "base_uri": "https://localhost:8080/"
        },
        "id": "fET9knZmqAnl",
        "outputId": "9d84e0e4-7147-44a1-aef6-e08f56df9fc4"
      },
      "outputs": [
        {
          "output_type": "stream",
          "name": "stdout",
          "text": [
            "Collecting mne\n",
            "  Downloading mne-1.5.1-py3-none-any.whl (7.7 MB)\n",
            "\u001b[2K     \u001b[90m━━━━━━━━━━━━━━━━━━━━━━━━━━━━━━━━━━━━━━━━\u001b[0m \u001b[32m7.7/7.7 MB\u001b[0m \u001b[31m46.8 MB/s\u001b[0m eta \u001b[36m0:00:00\u001b[0m\n",
            "\u001b[?25hRequirement already satisfied: numpy>=1.15.4 in /usr/local/lib/python3.10/dist-packages (from mne) (1.23.5)\n",
            "Requirement already satisfied: scipy>=1.6.3 in /usr/local/lib/python3.10/dist-packages (from mne) (1.11.3)\n",
            "Requirement already satisfied: matplotlib>=3.4.0 in /usr/local/lib/python3.10/dist-packages (from mne) (3.7.1)\n",
            "Requirement already satisfied: tqdm in /usr/local/lib/python3.10/dist-packages (from mne) (4.66.1)\n",
            "Requirement already satisfied: pooch>=1.5 in /usr/local/lib/python3.10/dist-packages (from mne) (1.7.0)\n",
            "Requirement already satisfied: decorator in /usr/local/lib/python3.10/dist-packages (from mne) (4.4.2)\n",
            "Requirement already satisfied: packaging in /usr/local/lib/python3.10/dist-packages (from mne) (23.1)\n",
            "Requirement already satisfied: jinja2 in /usr/local/lib/python3.10/dist-packages (from mne) (3.1.2)\n",
            "Requirement already satisfied: contourpy>=1.0.1 in /usr/local/lib/python3.10/dist-packages (from matplotlib>=3.4.0->mne) (1.1.1)\n",
            "Requirement already satisfied: cycler>=0.10 in /usr/local/lib/python3.10/dist-packages (from matplotlib>=3.4.0->mne) (0.12.0)\n",
            "Requirement already satisfied: fonttools>=4.22.0 in /usr/local/lib/python3.10/dist-packages (from matplotlib>=3.4.0->mne) (4.43.0)\n",
            "Requirement already satisfied: kiwisolver>=1.0.1 in /usr/local/lib/python3.10/dist-packages (from matplotlib>=3.4.0->mne) (1.4.5)\n",
            "Requirement already satisfied: pillow>=6.2.0 in /usr/local/lib/python3.10/dist-packages (from matplotlib>=3.4.0->mne) (9.4.0)\n",
            "Requirement already satisfied: pyparsing>=2.3.1 in /usr/local/lib/python3.10/dist-packages (from matplotlib>=3.4.0->mne) (3.1.1)\n",
            "Requirement already satisfied: python-dateutil>=2.7 in /usr/local/lib/python3.10/dist-packages (from matplotlib>=3.4.0->mne) (2.8.2)\n",
            "Requirement already satisfied: platformdirs>=2.5.0 in /usr/local/lib/python3.10/dist-packages (from pooch>=1.5->mne) (3.10.0)\n",
            "Requirement already satisfied: requests>=2.19.0 in /usr/local/lib/python3.10/dist-packages (from pooch>=1.5->mne) (2.31.0)\n",
            "Requirement already satisfied: MarkupSafe>=2.0 in /usr/local/lib/python3.10/dist-packages (from jinja2->mne) (2.1.3)\n",
            "Requirement already satisfied: six>=1.5 in /usr/local/lib/python3.10/dist-packages (from python-dateutil>=2.7->matplotlib>=3.4.0->mne) (1.16.0)\n",
            "Requirement already satisfied: charset-normalizer<4,>=2 in /usr/local/lib/python3.10/dist-packages (from requests>=2.19.0->pooch>=1.5->mne) (3.2.0)\n",
            "Requirement already satisfied: idna<4,>=2.5 in /usr/local/lib/python3.10/dist-packages (from requests>=2.19.0->pooch>=1.5->mne) (3.4)\n",
            "Requirement already satisfied: urllib3<3,>=1.21.1 in /usr/local/lib/python3.10/dist-packages (from requests>=2.19.0->pooch>=1.5->mne) (2.0.5)\n",
            "Requirement already satisfied: certifi>=2017.4.17 in /usr/local/lib/python3.10/dist-packages (from requests>=2.19.0->pooch>=1.5->mne) (2023.7.22)\n",
            "Installing collected packages: mne\n",
            "Successfully installed mne-1.5.1\n"
          ]
        }
      ],
      "source": [
        "pip install mne"
      ]
    },
    {
      "cell_type": "code",
      "execution_count": null,
      "metadata": {
        "colab": {
          "base_uri": "https://localhost:8080/"
        },
        "id": "dvw6t_41r0Q6",
        "outputId": "c7c75183-f1eb-474a-f21b-f6874fcb5e50"
      },
      "outputs": [
        {
          "output_type": "stream",
          "name": "stdout",
          "text": [
            "Mounted at drive\n"
          ]
        }
      ],
      "source": [
        "from google.colab import drive\n",
        "drive.mount('drive')"
      ]
    },
    {
      "cell_type": "code",
      "execution_count": null,
      "metadata": {
        "id": "wA4bSxOQ3QBY"
      },
      "outputs": [],
      "source": [
        "import os\n",
        "import mne\n",
        "import numpy as np\n",
        "from sklearn.model_selection import train_test_split\n",
        "from sklearn.preprocessing import StandardScaler"
      ]
    },
    {
      "cell_type": "code",
      "execution_count": null,
      "metadata": {
        "id": "qLkCopVSlPzh"
      },
      "outputs": [],
      "source": [
        "# base_path = \"/drive/Shared with me/Bachelor's project/UC San Diego/\"\n",
        "base_path = \"/content/drive/MyDrive/Bachelor's project/UC San Diego/\""
      ]
    },
    {
      "cell_type": "markdown",
      "metadata": {
        "id": "Np4mGZVKQrOw"
      },
      "source": [
        "#Pre-Processing"
      ]
    },
    {
      "cell_type": "code",
      "execution_count": null,
      "metadata": {
        "colab": {
          "base_uri": "https://localhost:8080/"
        },
        "id": "B_TOcux5pxra",
        "outputId": "4f5b2566-9edd-4988-e02b-e5bd026de919"
      },
      "outputs": [
        {
          "output_type": "stream",
          "name": "stdout",
          "text": [
            "Extracting EDF parameters from /content/drive/MyDrive/Bachelor's project/UC San Diego/hc/Copy of sub-hc1_ses-hc_task-rest_eeg.bdf...\n",
            "BDF file detected\n",
            "Setting channel info structure...\n",
            "Creating raw.info structure...\n",
            "Reading 0 ... 98303  =      0.000 ...   191.998 secs...\n",
            "Extracting EDF parameters from /content/drive/MyDrive/Bachelor's project/UC San Diego/hc/Copy of sub-hc4_ses-hc_task-rest_eeg.bdf...\n",
            "BDF file detected\n",
            "Setting channel info structure...\n",
            "Creating raw.info structure...\n",
            "Reading 0 ... 92671  =      0.000 ...   180.998 secs...\n",
            "Extracting EDF parameters from /content/drive/MyDrive/Bachelor's project/UC San Diego/hc/Copy of sub-hc2_ses-hc_task-rest_eeg.bdf...\n",
            "BDF file detected\n",
            "Setting channel info structure...\n",
            "Creating raw.info structure...\n",
            "Reading 0 ... 99327  =      0.000 ...   193.998 secs...\n",
            "Extracting EDF parameters from /content/drive/MyDrive/Bachelor's project/UC San Diego/hc/Copy of sub-hc7_ses-hc_task-rest_eeg.bdf...\n",
            "BDF file detected\n",
            "Setting channel info structure...\n",
            "Creating raw.info structure...\n",
            "Reading 0 ... 98303  =      0.000 ...   191.998 secs...\n",
            "Extracting EDF parameters from /content/drive/MyDrive/Bachelor's project/UC San Diego/hc/Copy of sub-hc8_ses-hc_task-rest_eeg.bdf...\n",
            "BDF file detected\n",
            "Setting channel info structure...\n",
            "Creating raw.info structure...\n",
            "Reading 0 ... 97791  =      0.000 ...   190.998 secs...\n",
            "Extracting EDF parameters from /content/drive/MyDrive/Bachelor's project/UC San Diego/hc/Copy of sub-hc10_ses-hc_task-rest_eeg.bdf...\n",
            "BDF file detected\n",
            "Setting channel info structure...\n",
            "Creating raw.info structure...\n",
            "Reading 0 ... 102911  =      0.000 ...   200.998 secs...\n",
            "Extracting EDF parameters from /content/drive/MyDrive/Bachelor's project/UC San Diego/hc/Copy of sub-hc20_ses-hc_task-rest_eeg.bdf...\n",
            "BDF file detected\n",
            "Setting channel info structure...\n",
            "Creating raw.info structure...\n",
            "Reading 0 ... 94207  =      0.000 ...   183.998 secs...\n",
            "Extracting EDF parameters from /content/drive/MyDrive/Bachelor's project/UC San Diego/hc/Copy of sub-hc18_ses-hc_task-rest_eeg.bdf...\n",
            "BDF file detected\n",
            "Setting channel info structure...\n",
            "Creating raw.info structure...\n",
            "Reading 0 ... 95231  =      0.000 ...   185.998 secs...\n",
            "Extracting EDF parameters from /content/drive/MyDrive/Bachelor's project/UC San Diego/hc/Copy of sub-hc21_ses-hc_task-rest_eeg.bdf...\n",
            "BDF file detected\n",
            "Setting channel info structure...\n",
            "Creating raw.info structure...\n",
            "Reading 0 ... 96767  =      0.000 ...   188.998 secs...\n",
            "Extracting EDF parameters from /content/drive/MyDrive/Bachelor's project/UC San Diego/hc/Copy of sub-hc24_ses-hc_task-rest_eeg.bdf...\n",
            "BDF file detected\n",
            "Setting channel info structure...\n",
            "Creating raw.info structure...\n",
            "Reading 0 ... 98303  =      0.000 ...   191.998 secs...\n",
            "Extracting EDF parameters from /content/drive/MyDrive/Bachelor's project/UC San Diego/hc/Copy of sub-hc25_ses-hc_task-rest_eeg.bdf...\n",
            "BDF file detected\n",
            "Setting channel info structure...\n",
            "Creating raw.info structure...\n",
            "Reading 0 ... 103423  =      0.000 ...   201.998 secs...\n",
            "Extracting EDF parameters from /content/drive/MyDrive/Bachelor's project/UC San Diego/hc/Copy of sub-hc29_ses-hc_task-rest_eeg.bdf...\n",
            "BDF file detected\n",
            "Setting channel info structure...\n",
            "Creating raw.info structure...\n",
            "Reading 0 ... 101887  =      0.000 ...   198.998 secs...\n",
            "Extracting EDF parameters from /content/drive/MyDrive/Bachelor's project/UC San Diego/hc/Copy of sub-hc30_ses-hc_task-rest_eeg.bdf...\n",
            "BDF file detected\n",
            "Setting channel info structure...\n",
            "Creating raw.info structure...\n",
            "Reading 0 ... 96767  =      0.000 ...   188.998 secs...\n",
            "Extracting EDF parameters from /content/drive/MyDrive/Bachelor's project/UC San Diego/hc/Copy of sub-hc32_ses-hc_task-rest_eeg.bdf...\n",
            "BDF file detected\n",
            "Setting channel info structure...\n",
            "Creating raw.info structure...\n",
            "Reading 0 ... 100351  =      0.000 ...   195.998 secs...\n",
            "Extracting EDF parameters from /content/drive/MyDrive/Bachelor's project/UC San Diego/hc/Copy of sub-hc33_ses-hc_task-rest_eeg.bdf...\n",
            "BDF file detected\n",
            "Setting channel info structure...\n",
            "Creating raw.info structure...\n",
            "Reading 0 ... 97279  =      0.000 ...   189.998 secs...\n",
            "Extracting EDF parameters from /content/drive/MyDrive/Bachelor's project/UC San Diego/hc/Copy of sub-hc31_ses-hc_task-rest_eeg.bdf...\n",
            "BDF file detected\n",
            "Setting channel info structure...\n",
            "Creating raw.info structure...\n",
            "Reading 0 ... 95743  =      0.000 ...   186.998 secs...\n",
            "Extracting EDF parameters from /content/drive/MyDrive/Bachelor's project/UC San Diego/pd/Copy of sub-pd3_ses-off_task-rest_eeg.bdf...\n",
            "BDF file detected\n",
            "Setting channel info structure...\n",
            "Creating raw.info structure...\n",
            "Reading 0 ... 102399  =      0.000 ...   199.998 secs...\n",
            "Extracting EDF parameters from /content/drive/MyDrive/Bachelor's project/UC San Diego/pd/Copy of sub-pd5_ses-off_task-rest_eeg.bdf...\n",
            "BDF file detected\n",
            "Setting channel info structure...\n",
            "Creating raw.info structure...\n",
            "Reading 0 ... 100863  =      0.000 ...   196.998 secs...\n",
            "Extracting EDF parameters from /content/drive/MyDrive/Bachelor's project/UC San Diego/pd/Copy of sub-pd6_ses-off_task-rest_eeg.bdf...\n",
            "BDF file detected\n",
            "Setting channel info structure...\n",
            "Creating raw.info structure...\n",
            "Reading 0 ... 97791  =      0.000 ...   190.998 secs...\n",
            "Extracting EDF parameters from /content/drive/MyDrive/Bachelor's project/UC San Diego/pd/Copy of sub-pd9_ses-off_task-rest_eeg.bdf...\n",
            "BDF file detected\n",
            "Setting channel info structure...\n",
            "Creating raw.info structure...\n",
            "Reading 0 ... 97791  =      0.000 ...   190.998 secs...\n",
            "Extracting EDF parameters from /content/drive/MyDrive/Bachelor's project/UC San Diego/pd/Copy of sub-pd11_ses-off_task-rest_eeg (1).bdf...\n",
            "BDF file detected\n",
            "Setting channel info structure...\n",
            "Creating raw.info structure...\n",
            "Reading 0 ... 95231  =      0.000 ...   185.998 secs...\n",
            "Extracting EDF parameters from /content/drive/MyDrive/Bachelor's project/UC San Diego/pd/Copy of sub-pd11_ses-off_task-rest_eeg.bdf...\n",
            "BDF file detected\n",
            "Setting channel info structure...\n",
            "Creating raw.info structure...\n",
            "Reading 0 ... 95231  =      0.000 ...   185.998 secs...\n",
            "Extracting EDF parameters from /content/drive/MyDrive/Bachelor's project/UC San Diego/pd/Copy of sub-pd13_ses-off_task-rest_eeg.bdf...\n",
            "BDF file detected\n",
            "Setting channel info structure...\n",
            "Creating raw.info structure...\n",
            "Reading 0 ... 95231  =      0.000 ...   185.998 secs...\n",
            "Extracting EDF parameters from /content/drive/MyDrive/Bachelor's project/UC San Diego/pd/Copy of sub-pd12_ses-off_task-rest_eeg.bdf...\n",
            "BDF file detected\n",
            "Setting channel info structure...\n",
            "Creating raw.info structure...\n",
            "Reading 0 ... 105983  =      0.000 ...   206.998 secs...\n",
            "Extracting EDF parameters from /content/drive/MyDrive/Bachelor's project/UC San Diego/pd/Copy of sub-pd14_ses-off_task-rest_eeg.bdf...\n",
            "BDF file detected\n",
            "Setting channel info structure...\n",
            "Creating raw.info structure...\n",
            "Reading 0 ... 149503  =      0.000 ...   291.998 secs...\n",
            "Extracting EDF parameters from /content/drive/MyDrive/Bachelor's project/UC San Diego/pd/Copy of sub-pd16_ses-off_task-rest_eeg.bdf...\n",
            "BDF file detected\n",
            "Setting channel info structure...\n",
            "Creating raw.info structure...\n",
            "Reading 0 ... 96255  =      0.000 ...   187.998 secs...\n",
            "Extracting EDF parameters from /content/drive/MyDrive/Bachelor's project/UC San Diego/pd/Copy of sub-pd17_ses-off_task-rest_eeg.bdf...\n",
            "BDF file detected\n",
            "Setting channel info structure...\n",
            "Creating raw.info structure...\n",
            "Reading 0 ... 96767  =      0.000 ...   188.998 secs...\n",
            "Extracting EDF parameters from /content/drive/MyDrive/Bachelor's project/UC San Diego/pd/Copy of sub-pd19_ses-off_task-rest_eeg.bdf...\n",
            "BDF file detected\n",
            "Setting channel info structure...\n",
            "Creating raw.info structure...\n",
            "Reading 0 ... 94719  =      0.000 ...   184.998 secs...\n",
            "Extracting EDF parameters from /content/drive/MyDrive/Bachelor's project/UC San Diego/pd/Copy of sub-pd22_ses-off_task-rest_eeg.bdf...\n",
            "BDF file detected\n",
            "Setting channel info structure...\n",
            "Creating raw.info structure...\n",
            "Reading 0 ... 96255  =      0.000 ...   187.998 secs...\n",
            "Extracting EDF parameters from /content/drive/MyDrive/Bachelor's project/UC San Diego/pd/Copy of sub-pd23_ses-off_task-rest_eeg.bdf...\n",
            "BDF file detected\n",
            "Setting channel info structure...\n",
            "Creating raw.info structure...\n",
            "Reading 0 ... 104447  =      0.000 ...   203.998 secs...\n",
            "Extracting EDF parameters from /content/drive/MyDrive/Bachelor's project/UC San Diego/pd/Copy of sub-pd26_ses-off_task-rest_eeg.bdf...\n",
            "BDF file detected\n",
            "Setting channel info structure...\n",
            "Creating raw.info structure...\n",
            "Reading 0 ... 97791  =      0.000 ...   190.998 secs...\n",
            "Extracting EDF parameters from /content/drive/MyDrive/Bachelor's project/UC San Diego/pd/Copy of sub-pd28_ses-off_task-rest_eeg.bdf...\n",
            "BDF file detected\n",
            "Setting channel info structure...\n",
            "Creating raw.info structure...\n",
            "Reading 0 ... 105471  =      0.000 ...   205.998 secs...\n"
          ]
        }
      ],
      "source": [
        "import os\n",
        "import numpy as np\n",
        "import mne\n",
        "from sklearn.model_selection import train_test_split\n",
        "from scipy.signal import butter, lfilter\n",
        "from scipy import signal\n",
        "from scipy.ndimage import zoom\n",
        "\n",
        "\n",
        "data_folder_normal = base_path + \"hc\"\n",
        "data_folder_patient = base_path + \"pd\"\n",
        "\n",
        "# Load EEG data from folders\n",
        "def load_eeg_data(folder):\n",
        "    data = []\n",
        "    for file in os.listdir(folder):\n",
        "        if file.endswith('.bdf'):\n",
        "            file_path = os.path.join(folder, file)\n",
        "            raw = mne.io.read_raw_bdf(file_path, preload=True)\n",
        "            eeg_data = raw.get_data()\n",
        "            data.append(eeg_data)\n",
        "    return data\n",
        "\n",
        "# Load data from both folders\n",
        "normal_data = load_eeg_data(data_folder_normal)\n",
        "patient_data = load_eeg_data(data_folder_patient)"
      ]
    },
    {
      "cell_type": "code",
      "execution_count": null,
      "metadata": {
        "id": "MYtQjYg1varH"
      },
      "outputs": [],
      "source": [
        "min_length = min([eeg_data.shape[1] for eeg_data in normal_data + patient_data])  #Minimum length of EEG signals\n",
        "\n",
        "# Resize EEG data to the minimum length\n",
        "def resize_eeg_data(data, new_length):\n",
        "    resized_data = []\n",
        "    for eeg_data in data:\n",
        "        resized_eeg_data = zoom(eeg_data, (1, new_length / eeg_data.shape[1]), order=3)\n",
        "        resized_data.append(resized_eeg_data)\n",
        "    return resized_data\n",
        "\n",
        "# Resize data from both groups\n",
        "resized_normal_data = resize_eeg_data(normal_data, min_length)\n",
        "resized_patient_data = resize_eeg_data(patient_data, min_length)"
      ]
    },
    {
      "cell_type": "code",
      "execution_count": null,
      "metadata": {
        "id": "GB3uSWfysm_G"
      },
      "outputs": [],
      "source": [
        "sampling_rate = 512  # Sampling rate of EEG data\n",
        "window_length = 2 * sampling_rate  # 2-second window length\n",
        "\n",
        "# Segment data into 2-second windows\n",
        "def segment_data(data, window_length):\n",
        "    segments = []\n",
        "    for eeg_data in data:\n",
        "        num_segments = eeg_data.shape[1] // window_length\n",
        "        for i in range(num_segments):\n",
        "            segment = eeg_data[:, i * window_length : (i + 1) * window_length]\n",
        "            segments.append(segment)\n",
        "    return segments\n",
        "\n",
        "# Segment data from both groups\n",
        "normal_segments = segment_data(resized_normal_data, window_length)\n",
        "patient_segments = segment_data(resized_patient_data, window_length)\n",
        "\n",
        "# Apply thresholding and bandpass filtering\n",
        "def preprocess_segment(segment):\n",
        "    # Apply thresholding to discard signal amplitudes exceeding ± 100 µV\n",
        "    threshold = 100  # in µV\n",
        "    segment[segment > threshold] = threshold\n",
        "    segment[segment < -threshold] = -threshold\n",
        "\n",
        "    # Apply a 6th-order bandpass Butterworth filter (1-49 Hz)\n",
        "    lowcut = 1  # in Hz\n",
        "    highcut = 49  # in Hz\n",
        "    nyquist = 0.5 * sampling_rate\n",
        "    low = lowcut / nyquist\n",
        "    high = highcut / nyquist\n",
        "    b, a = butter(6, [low, high], btype='band')\n",
        "    filtered_segment = lfilter(b, a, segment, axis=1)\n",
        "\n",
        "    return filtered_segment\n",
        "\n",
        "# Apply preprocessing to both groups\n",
        "preprocessed_normal = [preprocess_segment(segment) for segment in normal_segments]\n",
        "preprocessed_patient = [preprocess_segment(segment) for segment in patient_segments]\n",
        "\n",
        "# Prepare labels\n",
        "labels_normal = np.zeros(len(preprocessed_normal))  # 0 for normal\n",
        "labels_patient = np.ones(len(preprocessed_patient))  # 1 for patients\n",
        "\n",
        "# Combine data and labels\n",
        "data = np.concatenate((preprocessed_normal, preprocessed_patient), axis=0)\n",
        "labels = np.concatenate((labels_normal, labels_patient), axis=0)"
      ]
    },
    {
      "cell_type": "code",
      "execution_count": null,
      "metadata": {
        "colab": {
          "base_uri": "https://localhost:8080/"
        },
        "id": "scT55lSX6UMa",
        "outputId": "b14d9406-cc70-4bd5-9082-02f183a006e9"
      },
      "outputs": [
        {
          "output_type": "stream",
          "name": "stdout",
          "text": [
            "(2880, 41, 1024)\n",
            "(2880,)\n"
          ]
        }
      ],
      "source": [
        "print(data.shape)\n",
        "print(labels.shape)"
      ]
    },
    {
      "cell_type": "code",
      "source": [
        "np.save(base_path + \"pre processed data.npy\", data)\n",
        "np.save(base_path + \"pre processed labels.npy\", labels)"
      ],
      "metadata": {
        "id": "md_LocdWnM_I"
      },
      "execution_count": null,
      "outputs": []
    },
    {
      "cell_type": "code",
      "source": [],
      "metadata": {
        "id": "ycxTvC18nknk"
      },
      "execution_count": null,
      "outputs": []
    }
  ],
  "metadata": {
    "colab": {
      "provenance": [],
      "include_colab_link": true
    },
    "kernelspec": {
      "display_name": "Python 3",
      "name": "python3"
    },
    "language_info": {
      "name": "python"
    }
  },
  "nbformat": 4,
  "nbformat_minor": 0
}