{
  "cells": [
    {
      "cell_type": "markdown",
      "metadata": {
        "id": "view-in-github",
        "colab_type": "text"
      },
      "source": [
        "<a href=\"https://colab.research.google.com/github/TahaMsv/Bachelor-Project/blob/main/bachelor_project(Other_models).ipynb\" target=\"_parent\"><img src=\"https://colab.research.google.com/assets/colab-badge.svg\" alt=\"Open In Colab\"/></a>"
      ]
    },
    {
      "cell_type": "code",
      "execution_count": null,
      "metadata": {
        "colab": {
          "base_uri": "https://localhost:8080/"
        },
        "id": "fET9knZmqAnl",
        "outputId": "40637a87-83f8-4918-ec75-162a27aa4f4c"
      },
      "outputs": [
        {
          "output_type": "stream",
          "name": "stdout",
          "text": [
            "Collecting mne\n",
            "  Downloading mne-1.5.1-py3-none-any.whl (7.7 MB)\n",
            "\u001b[?25l     \u001b[90m━━━━━━━━━━━━━━━━━━━━━━━━━━━━━━━━━━━━━━━━\u001b[0m \u001b[32m0.0/7.7 MB\u001b[0m \u001b[31m?\u001b[0m eta \u001b[36m-:--:--\u001b[0m\r\u001b[2K     \u001b[91m━━━\u001b[0m\u001b[91m╸\u001b[0m\u001b[90m━━━━━━━━━━━━━━━━━━━━━━━━━━━━━━━━━━━━\u001b[0m \u001b[32m0.7/7.7 MB\u001b[0m \u001b[31m22.0 MB/s\u001b[0m eta \u001b[36m0:00:01\u001b[0m\r\u001b[2K     \u001b[91m━━━━━━━━━━━━━━━━━━━━━━━\u001b[0m\u001b[91m╸\u001b[0m\u001b[90m━━━━━━━━━━━━━━━━\u001b[0m \u001b[32m4.5/7.7 MB\u001b[0m \u001b[31m66.1 MB/s\u001b[0m eta \u001b[36m0:00:01\u001b[0m\r\u001b[2K     \u001b[91m━━━━━━━━━━━━━━━━━━━━━━━━━━━━━━━━━━━━━━━\u001b[0m\u001b[91m╸\u001b[0m \u001b[32m7.7/7.7 MB\u001b[0m \u001b[31m91.4 MB/s\u001b[0m eta \u001b[36m0:00:01\u001b[0m\r\u001b[2K     \u001b[90m━━━━━━━━━━━━━━━━━━━━━━━━━━━━━━━━━━━━━━━━\u001b[0m \u001b[32m7.7/7.7 MB\u001b[0m \u001b[31m70.8 MB/s\u001b[0m eta \u001b[36m0:00:00\u001b[0m\n",
            "\u001b[?25hRequirement already satisfied: numpy>=1.15.4 in /usr/local/lib/python3.10/dist-packages (from mne) (1.23.5)\n",
            "Requirement already satisfied: scipy>=1.6.3 in /usr/local/lib/python3.10/dist-packages (from mne) (1.11.3)\n",
            "Requirement already satisfied: matplotlib>=3.4.0 in /usr/local/lib/python3.10/dist-packages (from mne) (3.7.1)\n",
            "Requirement already satisfied: tqdm in /usr/local/lib/python3.10/dist-packages (from mne) (4.66.1)\n",
            "Requirement already satisfied: pooch>=1.5 in /usr/local/lib/python3.10/dist-packages (from mne) (1.7.0)\n",
            "Requirement already satisfied: decorator in /usr/local/lib/python3.10/dist-packages (from mne) (4.4.2)\n",
            "Requirement already satisfied: packaging in /usr/local/lib/python3.10/dist-packages (from mne) (23.1)\n",
            "Requirement already satisfied: jinja2 in /usr/local/lib/python3.10/dist-packages (from mne) (3.1.2)\n",
            "Requirement already satisfied: contourpy>=1.0.1 in /usr/local/lib/python3.10/dist-packages (from matplotlib>=3.4.0->mne) (1.1.1)\n",
            "Requirement already satisfied: cycler>=0.10 in /usr/local/lib/python3.10/dist-packages (from matplotlib>=3.4.0->mne) (0.12.0)\n",
            "Requirement already satisfied: fonttools>=4.22.0 in /usr/local/lib/python3.10/dist-packages (from matplotlib>=3.4.0->mne) (4.43.0)\n",
            "Requirement already satisfied: kiwisolver>=1.0.1 in /usr/local/lib/python3.10/dist-packages (from matplotlib>=3.4.0->mne) (1.4.5)\n",
            "Requirement already satisfied: pillow>=6.2.0 in /usr/local/lib/python3.10/dist-packages (from matplotlib>=3.4.0->mne) (9.4.0)\n",
            "Requirement already satisfied: pyparsing>=2.3.1 in /usr/local/lib/python3.10/dist-packages (from matplotlib>=3.4.0->mne) (3.1.1)\n",
            "Requirement already satisfied: python-dateutil>=2.7 in /usr/local/lib/python3.10/dist-packages (from matplotlib>=3.4.0->mne) (2.8.2)\n",
            "Requirement already satisfied: platformdirs>=2.5.0 in /usr/local/lib/python3.10/dist-packages (from pooch>=1.5->mne) (3.10.0)\n",
            "Requirement already satisfied: requests>=2.19.0 in /usr/local/lib/python3.10/dist-packages (from pooch>=1.5->mne) (2.31.0)\n",
            "Requirement already satisfied: MarkupSafe>=2.0 in /usr/local/lib/python3.10/dist-packages (from jinja2->mne) (2.1.3)\n",
            "Requirement already satisfied: six>=1.5 in /usr/local/lib/python3.10/dist-packages (from python-dateutil>=2.7->matplotlib>=3.4.0->mne) (1.16.0)\n",
            "Requirement already satisfied: charset-normalizer<4,>=2 in /usr/local/lib/python3.10/dist-packages (from requests>=2.19.0->pooch>=1.5->mne) (3.2.0)\n",
            "Requirement already satisfied: idna<4,>=2.5 in /usr/local/lib/python3.10/dist-packages (from requests>=2.19.0->pooch>=1.5->mne) (3.4)\n",
            "Requirement already satisfied: urllib3<3,>=1.21.1 in /usr/local/lib/python3.10/dist-packages (from requests>=2.19.0->pooch>=1.5->mne) (2.0.5)\n",
            "Requirement already satisfied: certifi>=2017.4.17 in /usr/local/lib/python3.10/dist-packages (from requests>=2.19.0->pooch>=1.5->mne) (2023.7.22)\n",
            "Installing collected packages: mne\n",
            "Successfully installed mne-1.5.1\n"
          ]
        }
      ],
      "source": [
        "pip install mne"
      ]
    },
    {
      "cell_type": "code",
      "execution_count": null,
      "metadata": {
        "colab": {
          "base_uri": "https://localhost:8080/"
        },
        "id": "dvw6t_41r0Q6",
        "outputId": "0e6e9d9b-4c25-4cf4-b81c-8c12ea4f3b97"
      },
      "outputs": [
        {
          "output_type": "stream",
          "name": "stdout",
          "text": [
            "Mounted at drive\n"
          ]
        }
      ],
      "source": [
        "from google.colab import drive\n",
        "drive.mount('drive')"
      ]
    },
    {
      "cell_type": "code",
      "execution_count": null,
      "metadata": {
        "id": "wA4bSxOQ3QBY"
      },
      "outputs": [],
      "source": [
        "import os\n",
        "import mne\n",
        "import numpy as np\n",
        "from sklearn.model_selection import train_test_split\n",
        "from sklearn.preprocessing import StandardScaler"
      ]
    },
    {
      "cell_type": "code",
      "execution_count": null,
      "metadata": {
        "id": "qLkCopVSlPzh"
      },
      "outputs": [],
      "source": [
        "# base_path = \"/drive/Shared with me/Bachelor's project/UC San Diego/\"\n",
        "base_path = \"/content/drive/MyDrive/Bachelor's project/UC San Diego/\""
      ]
    },
    {
      "cell_type": "markdown",
      "metadata": {
        "id": "Np4mGZVKQrOw"
      },
      "source": [
        "#Load data"
      ]
    },
    {
      "cell_type": "code",
      "source": [
        "data =np.load(base_path + \"pre processed data.npy\")\n",
        "labels = np.load(base_path + \"pre processed labels.npy\")"
      ],
      "metadata": {
        "id": "ycxTvC18nknk"
      },
      "execution_count": null,
      "outputs": []
    },
    {
      "cell_type": "code",
      "source": [
        "print(data.shape)\n",
        "print(labels.shape)"
      ],
      "metadata": {
        "colab": {
          "base_uri": "https://localhost:8080/"
        },
        "id": "2vLLxc9RpP8T",
        "outputId": "6fa34bf1-a546-4910-a671-83c2b2539ba1"
      },
      "execution_count": null,
      "outputs": [
        {
          "output_type": "stream",
          "name": "stdout",
          "text": [
            "(2880, 41, 1024)\n",
            "(2880,)\n"
          ]
        }
      ]
    },
    {
      "cell_type": "markdown",
      "source": [
        "#LSTM"
      ],
      "metadata": {
        "id": "yzhVY9KTpzVa"
      }
    },
    {
      "cell_type": "code",
      "source": [
        "import numpy as np\n",
        "import tensorflow as tf\n",
        "from sklearn.model_selection import StratifiedKFold\n",
        "from sklearn.metrics import accuracy_score, confusion_matrix\n",
        "from tensorflow import keras\n",
        "# Define the number of classes and the number of folds for cross-validation\n",
        "num_classes = 2  # 2 classes for binary classification (Parkinson's and non-Parkinson's)\n",
        "num_folds = 10\n",
        "\n",
        "# Initialize K-fold cross-validation\n",
        "skf = StratifiedKFold(n_splits=num_folds, shuffle=True, random_state=42)\n",
        "\n",
        "# Initialize lists to store evaluation metrics for each fold\n",
        "lstm_accuracies = []\n",
        "lstm_sensitivities = []\n",
        "lstm_specificities = []\n",
        "\n",
        "# Define LSTM model\n",
        "def create_lstm_model():\n",
        "    model = keras.Sequential()\n",
        "    model.add(keras.layers.LSTM(128, input_shape=(41, 1024), return_sequences=True))\n",
        "    model.add(keras.layers.LSTM(64, return_sequences=False))\n",
        "    model.add(keras.layers.Dense(1, activation='sigmoid'))\n",
        "    model.compile(loss='binary_crossentropy', optimizer= keras.optimizers.Adam(learning_rate=0.0001), metrics=['accuracy'])\n",
        "    return model\n",
        "\n",
        "# Perform 10-fold cross-validation\n",
        "# Perform 10-fold cross-validation\n",
        "for fold, (train_index, test_index) in enumerate(skf.split(data, labels), 1):\n",
        "    X_train, X_test = data[train_index], data[test_index]\n",
        "    y_train, y_test = labels[train_index], labels[test_index]\n",
        "\n",
        "    # Create and train the LSTM model\n",
        "    model = create_lstm_model()\n",
        "    model.fit(X_train, y_train, epochs=50, batch_size=32, verbose=0)\n",
        "\n",
        "    # Make predictions\n",
        "    y_pred = (model.predict(X_test) > 0.5).astype(int)\n",
        "\n",
        "    # Calculate evaluation metrics\n",
        "    accuracy = accuracy_score(y_test, y_pred)\n",
        "    tn, fp, fn, tp = confusion_matrix(y_test, y_pred).ravel()\n",
        "    specificity = tn / (tn + fp)\n",
        "    sensitivity = tp / (tp + fn)\n",
        "\n",
        "    lstm_accuracies.append(accuracy)\n",
        "    lstm_sensitivities.append(sensitivity)\n",
        "    lstm_specificities.append(specificity)\n",
        "    print(f\"Fold {fold} - Accuracy: {accuracy:.4f}, Sensitivity: {sensitivity:.4f}, Specificity: {specificity:.4f}\")\n",
        "\n",
        "\n",
        "# Calculate the mean and standard deviation of evaluation metrics\n",
        "mean_accuracy = np.mean(lstm_accuracies)\n",
        "mean_sensitivity = np.mean(lstm_sensitivities)\n",
        "mean_specificity = np.mean(lstm_specificities)\n",
        "\n",
        "std_accuracy = np.std(lstm_accuracies)\n",
        "std_sensitivity = np.std(lstm_sensitivities)\n",
        "std_specificity = np.std(lstm_specificities)\n",
        "\n",
        "print(\"Mean Accuracy:\", mean_accuracy)\n",
        "print(\"Mean Sensitivity (True Positive Rate):\", mean_sensitivity)\n",
        "print(\"Mean Specificity (True Negative Rate):\", mean_specificity)\n",
        "print(\"Standard Deviation of Accuracy:\", std_accuracy)\n",
        "print(\"Standard Deviation of Sensitivity:\", std_sensitivity)\n",
        "print(\"Standard Deviation of Specificity:\", std_specificity)\n"
      ],
      "metadata": {
        "colab": {
          "base_uri": "https://localhost:8080/"
        },
        "id": "ZrUMW7QztUVa",
        "outputId": "f51aa969-4888-49a0-f874-90289b058888"
      },
      "execution_count": null,
      "outputs": [
        {
          "output_type": "stream",
          "name": "stdout",
          "text": [
            "9/9 [==============================] - 2s 69ms/step\n",
            "Fold 1 - Accuracy: 0.9549, Sensitivity: 1.0000, Specificity: 0.9097\n",
            "9/9 [==============================] - 1s 39ms/step\n",
            "Fold 2 - Accuracy: 0.8681, Sensitivity: 1.0000, Specificity: 0.7361\n",
            "9/9 [==============================] - 1s 40ms/step\n",
            "Fold 3 - Accuracy: 0.9583, Sensitivity: 1.0000, Specificity: 0.9167\n",
            "9/9 [==============================] - 1s 54ms/step\n",
            "Fold 4 - Accuracy: 0.9861, Sensitivity: 1.0000, Specificity: 0.9722\n",
            "9/9 [==============================] - 1s 39ms/step\n",
            "Fold 5 - Accuracy: 0.9583, Sensitivity: 1.0000, Specificity: 0.9167\n",
            "9/9 [==============================] - 1s 47ms/step\n",
            "Fold 6 - Accuracy: 0.9965, Sensitivity: 0.9931, Specificity: 1.0000\n",
            "9/9 [==============================] - 1s 43ms/step\n",
            "Fold 7 - Accuracy: 0.9444, Sensitivity: 1.0000, Specificity: 0.8889\n",
            "9/9 [==============================] - 1s 39ms/step\n",
            "Fold 8 - Accuracy: 0.9688, Sensitivity: 0.9931, Specificity: 0.9444\n",
            "9/9 [==============================] - 1s 37ms/step\n",
            "Fold 9 - Accuracy: 0.9444, Sensitivity: 1.0000, Specificity: 0.8889\n",
            "9/9 [==============================] - 1s 37ms/step\n",
            "Fold 10 - Accuracy: 0.9688, Sensitivity: 1.0000, Specificity: 0.9375\n",
            "Mean Accuracy: 0.954861111111111\n",
            "Mean Sensitivity (True Positive Rate): 0.9986111111111111\n",
            "Mean Specificity (True Negative Rate): 0.9111111111111111\n",
            "Standard Deviation of Accuracy: 0.032976972418288245\n",
            "Standard Deviation of Sensitivity: 0.0027777777777777683\n",
            "Standard Deviation of Specificity: 0.06717112382968747\n"
          ]
        }
      ]
    },
    {
      "cell_type": "markdown",
      "source": [
        "#SVM"
      ],
      "metadata": {
        "id": "oKCgq6TsXhtj"
      }
    },
    {
      "cell_type": "code",
      "source": [
        "import numpy as np\n",
        "from sklearn import svm\n",
        "from sklearn.model_selection import StratifiedKFold\n",
        "from sklearn.metrics import accuracy_score, confusion_matrix\n",
        "\n",
        "\n",
        "# Define the number of classes and the number of folds for cross-validation\n",
        "num_classes = 2  # 2 classes for binary classification (Parkinson's and non-Parkinson's)\n",
        "num_folds = 10\n",
        "\n",
        "# Initialize K-fold cross-validation\n",
        "skf = StratifiedKFold(n_splits=num_folds, shuffle=True, random_state=42)\n",
        "\n",
        "# Initialize lists to store evaluation metrics for each fold\n",
        "svm_accuracies = []\n",
        "svm_sensitivities = []\n",
        "svm_specificities = []\n",
        "\n",
        "# Perform 10-fold cross-validation\n",
        "for fold, (train_index, test_index) in enumerate(skf.split(data, labels), 1):\n",
        "    X_train, X_test = data[train_index], data[test_index]\n",
        "    y_train, y_test = labels[train_index], labels[test_index]\n",
        "\n",
        "    # Create and train the SVM classifier\n",
        "    clf = svm.SVC(kernel='sigmoid')  # You can try different kernels\n",
        "\n",
        "    clf.fit(X_train.reshape(X_train.shape[0], -1), y_train)  # Flatten the input data\n",
        "\n",
        "    # Make predictions\n",
        "    y_pred = clf.predict(X_test.reshape(X_test.shape[0], -1))  # Flatten the test data\n",
        "\n",
        "    # Calculate evaluation metrics\n",
        "    accuracy = accuracy_score(y_test, y_pred)\n",
        "    tn, fp, fn, tp = confusion_matrix(y_test, y_pred).ravel()\n",
        "    specificity = tn / (tn + fp)\n",
        "    sensitivity = tp / (tp + fn)\n",
        "\n",
        "    svm_accuracies.append(accuracy)\n",
        "    svm_sensitivities.append(sensitivity)\n",
        "    svm_specificities.append(specificity)\n",
        "    print(f\"Fold {fold} - Accuracy: {accuracy:.4f}, Sensitivity: {sensitivity:.4f}, Specificity: {specificity:.4f}\")\n",
        "\n",
        "\n",
        "# Calculate the mean and standard deviation of evaluation metrics\n",
        "mean_accuracy = np.mean(svm_accuracies)\n",
        "mean_sensitivity = np.mean(svm_sensitivities)\n",
        "mean_specificity = np.mean(svm_specificities)\n",
        "\n",
        "std_accuracy = np.std(svm_accuracies)\n",
        "std_sensitivity = np.std(svm_sensitivities)\n",
        "std_specificity = np.std(svm_specificities)\n",
        "\n",
        "print(\"Mean Accuracy:\", mean_accuracy)\n",
        "print(\"Mean Sensitivity (True Positive Rate):\", mean_sensitivity)\n",
        "print(\"Mean Specificity (True Negative Rate):\", mean_specificity)\n",
        "print(\"Standard Deviation of Accuracy:\", std_accuracy)\n",
        "print(\"Standard Deviation of Sensitivity:\", std_sensitivity)\n",
        "print(\"Standard Deviation of Specificity:\", std_specificity)\n"
      ],
      "metadata": {
        "colab": {
          "base_uri": "https://localhost:8080/"
        },
        "id": "AgrSYHNvuvKc",
        "outputId": "3fdcf3df-f36e-4161-d9c8-0eaf950e8543"
      },
      "execution_count": null,
      "outputs": [
        {
          "output_type": "stream",
          "name": "stdout",
          "text": [
            "Fold 1 - Accuracy: 0.4965, Sensitivity: 0.0069, Specificity: 0.9861\n",
            "Fold 2 - Accuracy: 0.4931, Sensitivity: 0.0000, Specificity: 0.9861\n",
            "Fold 3 - Accuracy: 0.4931, Sensitivity: 0.0000, Specificity: 0.9861\n",
            "Fold 4 - Accuracy: 0.5000, Sensitivity: 0.0069, Specificity: 0.9931\n",
            "Fold 5 - Accuracy: 0.4965, Sensitivity: 0.9931, Specificity: 0.0000\n",
            "Fold 6 - Accuracy: 0.5035, Sensitivity: 0.0069, Specificity: 1.0000\n",
            "Fold 7 - Accuracy: 0.5035, Sensitivity: 0.0139, Specificity: 0.9931\n",
            "Fold 8 - Accuracy: 0.5000, Sensitivity: 0.0069, Specificity: 0.9931\n",
            "Fold 9 - Accuracy: 0.5000, Sensitivity: 0.0139, Specificity: 0.9861\n",
            "Fold 10 - Accuracy: 0.4931, Sensitivity: 0.9861, Specificity: 0.0000\n",
            "Mean Accuracy: 0.4979166666666666\n",
            "Mean Sensitivity (True Positive Rate): 0.20347222222222222\n",
            "Mean Specificity (True Negative Rate): 0.7923611111111111\n",
            "Standard Deviation of Accuracy: 0.0038665030297430573\n",
            "Standard Deviation of Sensitivity: 0.3930831605932456\n",
            "Standard Deviation of Specificity: 0.3962041391851017\n"
          ]
        }
      ]
    },
    {
      "cell_type": "markdown",
      "source": [
        "#Save results"
      ],
      "metadata": {
        "id": "9ZsME4wCrFBl"
      }
    },
    {
      "cell_type": "code",
      "source": [
        "#LSTM results\n",
        "lstm_results = {\n",
        "        'accuracies': lstm_accuracies,\n",
        "        'sensitivities': lstm_sensitivities,\n",
        "        'specificities': lstm_specificities\n",
        "    }\n",
        "\n",
        "svm_results = {\n",
        "        'accuracies': svm_accuracies,\n",
        "        'sensitivities': svm_sensitivities,\n",
        "        'specificities': svm_specificities\n",
        "    }\n",
        "\n",
        "np.save(base_path + \"lstm_results.npy\", lstm_results)\n",
        "np.save(base_path + \"svm_results.npy\", svm_results)"
      ],
      "metadata": {
        "id": "hH3Tdc_2X4ur"
      },
      "execution_count": null,
      "outputs": []
    },
    {
      "cell_type": "markdown",
      "source": [
        "#Load results"
      ],
      "metadata": {
        "id": "HWZNi-VEsBwa"
      }
    },
    {
      "cell_type": "code",
      "source": [
        "loaded_lstm_results = np.load(base_path + \"lstm_results.npy\", allow_pickle=True).item()\n",
        "loaded_svm_results = np.load(base_path + \"svm_results.npy\", allow_pickle=True).item()\n",
        "\n",
        "# Access the metrics for specific models (e.g., LSTM and SVM)\n",
        "lstm_accuracies = loaded_lstm_results['accuracies']\n",
        "lstm_sensitivities = loaded_lstm_results['sensitivities']\n",
        "lstm_specificities = loaded_lstm_results['specificities']\n",
        "\n",
        "svm_accuracies = loaded_svm_results['accuracies']\n",
        "svm_sensitivities = loaded_svm_results['sensitivities']\n",
        "svm_specificities = loaded_svm_results['specificities']"
      ],
      "metadata": {
        "id": "VYwwJSlWsEbS"
      },
      "execution_count": null,
      "outputs": []
    }
  ],
  "metadata": {
    "colab": {
      "provenance": [],
      "include_colab_link": true
    },
    "kernelspec": {
      "display_name": "Python 3",
      "name": "python3"
    },
    "language_info": {
      "name": "python"
    }
  },
  "nbformat": 4,
  "nbformat_minor": 0
}